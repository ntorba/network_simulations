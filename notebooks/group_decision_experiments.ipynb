{
 "cells": [
  {
   "cell_type": "markdown",
   "metadata": {},
   "source": [
    "# Group Decision Experiments\n",
    "\n",
    "This notebook runs group decision experiments inspired by Alex Lamb's piece [Why The World Has Gone Crazy](https://thetinkerpoint.com/2019/02/11/why-the-world-has-gone-crazy/). \n",
    "\n",
    "I wrote some about this article [here](https://nicktorba.com/brain/why-the-world-has-gone-crazy). I found these simulations really interesting and wanted to expand on the code and create more (that Alex did release [on github](https://github.com/alexlamb/groupdecision))\n",
    "\n",
    "More of Alex's work: \n",
    "* https://observablehq.com/@alexlamb/iterated-prisoners-dilemma\n",
    "* https://observablehq.com/@alexlamb/prisoners-dilemma-with-kin-cues\n",
    "* https://observablehq.com/@alexlamb/prisoners-dilemma-with-wealth-cues\n",
    "* https://www.youtube.com/watch?v=oarsWELcJR8\n",
    "\n",
    "I may end up adding Alex-inpsired simluations to this library. \n",
    "\n",
    "These simulations are a simple starting point that shows a interesting effects that can help us understand exactly how much influence powerful individuals have on our society. \n",
    "\n"
   ]
  },
  {
   "cell_type": "code",
   "execution_count": 1,
   "metadata": {},
   "outputs": [],
   "source": [
    "import random \n",
    "from copy import deepcopy\n",
    "import pandas as pd\n",
    "import matplotlib.pyplot as plt\n",
    "from network_simulations.group_decision.builders import scale_free_with_opinions, random_network_with_opinions\n",
    "from network_simulations.group_decision.group_decision import run, random_update, get_opinions, is_converged, add_influence\n"
   ]
  },
  {
   "cell_type": "code",
   "execution_count": 2,
   "metadata": {},
   "outputs": [],
   "source": [
    "NUM_EXPERIMENTS = 200\n",
    "SIM_STEPS=1000\n",
    "NUM_NODES=20\n",
    "MIN_NEIGHBORS=4\n",
    "OPINION_A_COUNT=5 # opinion a is at an advantaged when setting bias=True\n",
    "OPINION_B_COUNT=5\n",
    "NO_OPINION=0 \n",
    "OPINION_A=1\n",
    "OPINION_B=2\n",
    "DECIDED=0.7\n",
    "UNDECIDED=0.3"
   ]
  },
  {
   "cell_type": "markdown",
   "metadata": {},
   "source": [
    "## Running a Single Group Decision Experiment\n",
    "This is how you can simulate networked group decision making a single time. \n",
    "In this examplle, I use an unbiased scale free network. \n",
    "\n",
    "We plot the change in decisions up to convergence (all nodes in the graph agreeing) or up to `SIM_STEPS` steps. \n",
    "\n",
    "You can run this sim a few times, with different settings, to get a handle on how the outcomes can differ (especially for unbiased graphs). \n"
   ]
  },
  {
   "cell_type": "code",
   "execution_count": 3,
   "metadata": {},
   "outputs": [],
   "source": [
    "initial_network = scale_free_with_opinions(\n",
    "    num_nodes=NUM_NODES,\n",
    "    min_neighbors=MIN_NEIGHBORS,\n",
    "    opinion_a_count=OPINION_A_COUNT,\n",
    "    opinion_b_count=OPINION_B_COUNT,\n",
    "    no_opinion=NO_OPINION,\n",
    "    opinion_a=OPINION_A,\n",
    "    opinion_b=OPINION_B,\n",
    "    decided=DECIDED,\n",
    "    undecided=UNDECIDED,\n",
    "    bias=False\n",
    ")\n",
    "\n",
    "states = run(initial_network, random_update, get_opinions, is_converged, SIM_STEPS)"
   ]
  },
  {
   "cell_type": "code",
   "execution_count": 4,
   "metadata": {},
   "outputs": [
    {
     "data": {
      "image/png": "[encoded data removed]",
      "text/plain": [
       "<Figure size 432x288 with 1 Axes>"
      ]
     },
     "metadata": {
      "needs_background": "light"
     },
     "output_type": "display_data"
    }
   ],
   "source": [
    "def plot_single_experiment(states):\n",
    "    df = pd.DataFrame(states, columns=[\"undecided\", \"a\", \"b\"])\n",
    "    df.plot(y=[\"undecided\", \"a\", \"b\"], title=\"Opinion Counts\")\n",
    "    plt.show()\n",
    "    \n",
    "plot_single_experiment(states)"
   ]
  },
  {
   "cell_type": "markdown",
   "metadata": {},
   "source": [
    "# Results in Aggregate\n",
    "It's hard to get a good idea bigger picture effects of the above settings from a single run of the simulation.\n",
    "Instead, we can look at the aggregate numbers of many experiments to see how different networks are effected by bias. \n",
    "\n",
    "First, we look at Scale Free Networks, then we compare those Results to Random Networks"
   ]
  },
  {
   "cell_type": "markdown",
   "metadata": {},
   "source": [
    "## Scale Free Networks - Biased vs. Random\n",
    "Going to run NUM_EXPERIMENTS biased experiments vs NUM_EXPERIMENTS random experiments \n",
    "\n",
    "Interested in:\n",
    "    * average/median length to convergence\n",
    "    * distribution of winners\n",
    "    "
   ]
  },
  {
   "cell_type": "code",
   "execution_count": 5,
   "metadata": {},
   "outputs": [],
   "source": [
    "## Utility functions for analysis \n",
    "\n",
    "import statistics as stats \n",
    "\n",
    "def mean_length(experiment_states):\n",
    "    return stats.mean([len(i) for i in experiment_states])\n",
    "\n",
    "def median_length(experiment_states):\n",
    "    return stats.median([len(i) for i in experiment_states])\n",
    "\n",
    "def decision_results(experiment_states):\n",
    "    results = [0,0,0]\n",
    "    final_states = [i[-1] for i in experiment_states]\n",
    "    for i_state in final_states:\n",
    "        max_index = i_state.index(max(i_state))\n",
    "        results[max_index] += 1\n",
    "    return results\n",
    "\n",
    "def plot_decision_results(results, title):\n",
    "    opinions = [\"undecided\", \"a\", \"b\"]\n",
    "    fig = plt.figure(figsize = (10, 5))\n",
    "    # creating the bar plot\n",
    "    plt.bar(opinions, results)#, color ='maroon', width = 0.4)\n",
    "\n",
    "    plt.xlabel(\"Opinions\")\n",
    "    plt.ylabel(\"Num Experiments in favor of\")\n",
    "    plt.title(title)\n",
    "    plt.show()"
   ]
  },
  {
   "cell_type": "markdown",
   "metadata": {},
   "source": [
    "### Scale Free - Random Opinion Initialization"
   ]
  },
  {
   "cell_type": "code",
   "execution_count": 6,
   "metadata": {},
   "outputs": [
    {
     "name": "stdout",
     "output_type": "stream",
     "text": [
      "mean lenght to converge:  663.93\n",
      "median_length to converge:  659.5\n",
      "Undecided: 1,Opinion a: 99,Opinion b: 100,\n"
     ]
    },
    {
     "data": {
      "image/png": "[encoded data removed]",
      "text/plain": [
       "<Figure size 720x360 with 1 Axes>"
      ]
     },
     "metadata": {
      "needs_background": "light"
     },
     "output_type": "display_data"
    }
   ],
   "source": [
    "# Random \n",
    "experiment_states = []\n",
    "\n",
    "for i in range(NUM_EXPERIMENTS):\n",
    "    scale_free_random_network = scale_free_with_opinions(\n",
    "        num_nodes=NUM_NODES,\n",
    "        min_neighbors=MIN_NEIGHBORS,\n",
    "        opinion_a_count=OPINION_A_COUNT,\n",
    "        opinion_b_count=OPINION_B_COUNT,\n",
    "        no_opinion=NO_OPINION,\n",
    "        opinion_a=OPINION_A,\n",
    "        opinion_b=OPINION_B,\n",
    "        decided=DECIDED,\n",
    "        undecided=UNDECIDED,\n",
    "        bias=False # This produces random network\n",
    "    )\n",
    "    states = run(\n",
    "        network=scale_free_random_network, \n",
    "        update_network=random_update, \n",
    "        extract_state=get_opinions, \n",
    "        converged=is_converged, \n",
    "        num_steps=SIM_STEPS\n",
    "    )\n",
    "    experiment_states.append(states)\n",
    "\n",
    "print(\"mean lenght to converge: \", mean_length(experiment_states))\n",
    "print(\"median_length to converge: \", median_length(experiment_states))\n",
    "\n",
    "results = decision_results(experiment_states)\n",
    "print(f\"Undecided: {results[0]},\"\n",
    "      f\"Opinion a: {results[1]},\"\n",
    "      f\"Opinion b: {results[2]},\"\n",
    "     )\n",
    "\n",
    "plot_decision_results(results, \"Scale Free - Random Initialization\")"
   ]
  },
  {
   "cell_type": "markdown",
   "metadata": {},
   "source": [
    "### Scale Free - Biased Opinion Initialization"
   ]
  },
  {
   "cell_type": "code",
   "execution_count": 7,
   "metadata": {},
   "outputs": [
    {
     "name": "stdout",
     "output_type": "stream",
     "text": [
      "mean length to converge:  539.69\n",
      "median length to converge:  425.0\n",
      "Undecided:0, Opinion a = 163, Opinion b = 37, \n"
     ]
    },
    {
     "data": {
      "image/png": "[encoded data removed]",
      "text/plain": [
       "<Figure size 720x360 with 1 Axes>"
      ]
     },
     "metadata": {
      "needs_background": "light"
     },
     "output_type": "display_data"
    }
   ],
   "source": [
    "experiment_states = []\n",
    "\n",
    "for i in range(NUM_EXPERIMENTS):\n",
    "    scale_free_biased_network = scale_free_with_opinions(\n",
    "        NUM_NODES,\n",
    "        MIN_NEIGHBORS,\n",
    "        OPINION_A_COUNT,\n",
    "        OPINION_B_COUNT,\n",
    "        NO_OPINION,\n",
    "        OPINION_A,\n",
    "        OPINION_B,\n",
    "        DECIDED,\n",
    "        UNDECIDED,\n",
    "        bias=True # This produces biased network - the most connected nodes get opinion_a, least connected get opinion_b\n",
    "    )\n",
    "    states = run(scale_free_biased_network, random_update, get_opinions, is_converged, SIM_STEPS)\n",
    "    experiment_states.append(states)\n",
    "\n",
    "print(\"mean length to converge: \", mean_length(experiment_states))\n",
    "print(\"median length to converge: \", median_length(experiment_states))\n",
    "\n",
    "results = decision_results(experiment_states)\n",
    "print(f\"Undecided:{results[0]}, \"\n",
    "      f\"Opinion a = {results[1]}, \"\n",
    "      f\"Opinion b = {results[2]}, \"\n",
    "     )\n",
    "plot_decision_results(decision_results(experiment_states), \"Scale Free - Biased Initialization\")"
   ]
  },
  {
   "cell_type": "markdown",
   "metadata": {},
   "source": [
    "### Random Networks - Scale Free and Random "
   ]
  },
  {
   "cell_type": "code",
   "execution_count": 8,
   "metadata": {},
   "outputs": [
    {
     "name": "stdout",
     "output_type": "stream",
     "text": [
      "mean length to converge:  925.015\n",
      "median length to converge:  1001.0\n",
      "Undecided:1,Opinion a = 102,Opinion b = 97,\n"
     ]
    },
    {
     "data": {
      "image/png": "[encoded data removed]",
      "text/plain": [
       "<Figure size 720x360 with 1 Axes>"
      ]
     },
     "metadata": {
      "needs_background": "light"
     },
     "output_type": "display_data"
    }
   ],
   "source": [
    "# Random \n",
    "experiment_states = []\n",
    "\n",
    "for i in range(NUM_EXPERIMENTS):\n",
    "    random_random_network = random_network_with_opinions(\n",
    "        NUM_NODES,\n",
    "        MIN_NEIGHBORS,\n",
    "        OPINION_A_COUNT,\n",
    "        OPINION_B_COUNT,\n",
    "        NO_OPINION,\n",
    "        OPINION_A,\n",
    "        OPINION_B,\n",
    "        DECIDED,\n",
    "        UNDECIDED,\n",
    "        bias=False # This produces random network\n",
    "    )\n",
    "    states = run(random_random_network, random_update, get_opinions, is_converged, SIM_STEPS)\n",
    "    experiment_states.append(states)\n",
    "\n",
    "print(\"mean length to converge: \", mean_length(experiment_states))\n",
    "print(\"median length to converge: \", median_length(experiment_states))\n",
    "\n",
    "results = decision_results(experiment_states)\n",
    "print(f\"Undecided:{results[0]},\"\n",
    "      f\"Opinion a = {results[1]},\"\n",
    "      f\"Opinion b = {results[2]},\"\n",
    "     )\n",
    "\n",
    "plot_decision_results(results, \"Random Network - Random Initialization\")"
   ]
  },
  {
   "cell_type": "code",
   "execution_count": 9,
   "metadata": {},
   "outputs": [
    {
     "name": "stdout",
     "output_type": "stream",
     "text": [
      "mean length to converge:  906.79\n",
      "median length to converge:  1001.0\n",
      "Undecided:1, Opinion a = 139, Opinion b = 60, \n"
     ]
    },
    {
     "data": {
      "image/png": "[encoded data removed]",
      "text/plain": [
       "<Figure size 720x360 with 1 Axes>"
      ]
     },
     "metadata": {
      "needs_background": "light"
     },
     "output_type": "display_data"
    }
   ],
   "source": [
    "## Biased \n",
    "experiment_states = []\n",
    "for i in range(NUM_EXPERIMENTS):\n",
    "    random_biased_network = random_network_with_opinions(\n",
    "        NUM_NODES,\n",
    "        MIN_NEIGHBORS,\n",
    "        OPINION_A_COUNT,\n",
    "        OPINION_B_COUNT,\n",
    "        NO_OPINION,\n",
    "        OPINION_A,\n",
    "        OPINION_B,\n",
    "        DECIDED,\n",
    "        UNDECIDED,\n",
    "        bias=True # This produces random network\n",
    "    )\n",
    "    states = run(random_biased_network, random_update, get_opinions, is_converged, SIM_STEPS)\n",
    "    experiment_states.append(states)\n",
    "\n",
    "print(\"mean length to converge: \", mean_length(experiment_states))\n",
    "print(\"median length to converge: \", median_length(experiment_states))\n",
    "\n",
    "results = decision_results(experiment_states)\n",
    "print(f\"Undecided:{results[0]}, \"\n",
    "      f\"Opinion a = {results[1]}, \"\n",
    "      f\"Opinion b = {results[2]}, \"\n",
    "     )\n",
    "plot_decision_results(decision_results(experiment_states), \"Random Network - Biased Initialization\")"
   ]
  },
  {
   "cell_type": "markdown",
   "metadata": {},
   "source": [
    "### Next Steps:\n",
    "\n",
    "#### Grid Search\n",
    "Grid Search over many different values for the constants that I have... I'm curious in how all of the variables effect aggregate outcomes: \n",
    "* min_neighbors\n",
    "* decived vs undecided\n",
    "* size of network, At what deficit can a biased network overcome? \n",
    "    * does min_neighbors have a strong effect here? \n",
    "    * hypothesis: the higher the proportion of undecided there is an in a population, the more susceptible the graph will be to powerful nodes \n",
    "\n",
    "#### Grab single plots from aggregate\n",
    "I wanna be able to quickly graph results from a single experiment based on results from aggregate.\n",
    "Example: There was only one run that ended opinion_b, plot that one...\n",
    "\n",
    "#### Early Convergence\n",
    "In graphs of single experiments, there is usually a pretty clear splitting point at which you can tell where the graph will ultimately converge. How could I detect that earlier so I can not wait for the full number of iterations for an experiment to complete? \n",
    "\n"
   ]
  },
  {
   "cell_type": "markdown",
   "metadata": {},
   "source": [
    "## Open Questions\n",
    "1. What is the node distribution of random networks? \n",
    "    1. should we look at the node distribution of random networks? \n",
    "    \n",
    "    \n",
    "2. Can the node distribution change throughout simulation? What effect would that investigate? "
   ]
  },
  {
   "cell_type": "markdown",
   "metadata": {},
   "source": [
    "### Notes \n",
    "\n",
    "We want to build environments that give opinions equal chance to succeed, but one of them will still succeed. We do not have ultimate control, but we can try design environments that are unbiased so that we end up with more confidence in the opinions that are selected... "
   ]
  },
  {
   "cell_type": "code",
   "execution_count": null,
   "metadata": {},
   "outputs": [],
   "source": []
  }
 ],
 "metadata": {
  "kernelspec": {
   "display_name": "Python 3",
   "language": "python",
   "name": "python3"
  },
  "language_info": {
   "codemirror_mode": {
    "name": "ipython",
    "version": 3
   },
   "file_extension": ".py",
   "mimetype": "text/x-python",
   "name": "python",
   "nbconvert_exporter": "python",
   "pygments_lexer": "ipython3",
   "version": "3.7.3"
  }
 },
 "nbformat": 4,
 "nbformat_minor": 4
}

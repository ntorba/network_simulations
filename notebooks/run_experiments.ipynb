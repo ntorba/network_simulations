{
 "cells": [
  {
   "cell_type": "code",
   "execution_count": null,
   "metadata": {},
   "outputs": [],
   "source": [
    "import os\n",
    "import random\n",
    "from multiprocessing import Pool\n",
    "from network_simulations import environment, builder"
   ]
  },
  {
   "cell_type": "code",
   "execution_count": null,
   "metadata": {},
   "outputs": [],
   "source": [
    "env = environment.Environment(\n",
    "    agent_count=100,\n",
    "    opinion_a_count=20,\n",
    "    opinion_b_count=20,\n",
    "    sample_size=3,\n",
    "    bias=False,\n",
    "    builder=builder.scale_free_network,\n",
    "    min_neighbors=3,\n",
    ")"
   ]
  },
  {
   "cell_type": "code",
   "execution_count": null,
   "metadata": {},
   "outputs": [],
   "source": [
    "results = env.run_experiments(50)\n",
    "\n",
    "print(\"FINAL: \")\n",
    "print(f\"    UNDECIDED: {results[0]}\")\n",
    "print(f\"    OPINION_A: {results[1]}\")\n",
    "print(f\"    OPINION_B: {results[2]}\")"
   ]
  }
 ],
 "metadata": {
  "kernelspec": {
   "display_name": "Python 3",
   "language": "python",
   "name": "python3"
  },
  "language_info": {
   "codemirror_mode": {
    "name": "ipython",
    "version": 3
   },
   "file_extension": ".py",
   "mimetype": "text/x-python",
   "name": "python",
   "nbconvert_exporter": "python",
   "pygments_lexer": "ipython3",
   "version": "3.7.3"
  }
 },
 "nbformat": 4,
 "nbformat_minor": 4
}
